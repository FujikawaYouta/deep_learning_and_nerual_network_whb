{
 "cells": [
  {
   "cell_type": "markdown",
   "metadata": {},
   "source": [
    "## 准备数据"
   ]
  },
  {
   "cell_type": "code",
   "execution_count": 1,
   "metadata": {},
   "outputs": [
    {
     "name": "stderr",
     "output_type": "stream",
     "text": [
      "2024-03-08 16:37:09.256784: I tensorflow/core/util/port.cc:110] oneDNN custom operations are on. You may see slightly different numerical results due to floating-point round-off errors from different computation orders. To turn them off, set the environment variable `TF_ENABLE_ONEDNN_OPTS=0`.\n",
      "2024-03-08 16:37:09.280546: I tensorflow/core/platform/cpu_feature_guard.cc:182] This TensorFlow binary is optimized to use available CPU instructions in performance-critical operations.\n",
      "To enable the following instructions: AVX2 AVX_VNNI FMA, in other operations, rebuild TensorFlow with the appropriate compiler flags.\n",
      "2024-03-08 16:37:09.638165: W tensorflow/compiler/tf2tensorrt/utils/py_utils.cc:38] TF-TRT Warning: Could not find TensorRT\n"
     ]
    }
   ],
   "source": [
    "import os\n",
    "import numpy as np\n",
    "import tensorflow as tf\n",
    "from tensorflow import keras\n",
    "from tensorflow.keras import layers, optimizers, datasets\n",
    "\n",
    "os.environ['TF_CPP_MIN_LOG_LEVEL'] = '2'  # or any {'0', '1', '2'}\n",
    "\n",
    "def mnist_dataset():\n",
    "    (x, y), (x_test, y_test) = datasets.mnist.load_data()\n",
    "    #normalize\n",
    "    x = x/255.0\n",
    "    x_test = x_test/255.0\n",
    "    \n",
    "    return (x, y), (x_test, y_test)"
   ]
  },
  {
   "cell_type": "code",
   "execution_count": 2,
   "metadata": {},
   "outputs": [
    {
     "name": "stdout",
     "output_type": "stream",
     "text": [
      "[(1, 'a'), (2, 'b'), (3, 'c'), (4, 'd')]\n"
     ]
    }
   ],
   "source": [
    "print(list(zip([1, 2, 3, 4], ['a', 'b', 'c', 'd'])))"
   ]
  },
  {
   "cell_type": "markdown",
   "metadata": {},
   "source": [
    "## 建立模型"
   ]
  },
  {
   "cell_type": "code",
   "execution_count": 3,
   "metadata": {},
   "outputs": [
    {
     "name": "stderr",
     "output_type": "stream",
     "text": [
      "2024-03-08 16:37:09.996864: I tensorflow/compiler/xla/stream_executor/cuda/cuda_gpu_executor.cc:995] successful NUMA node read from SysFS had negative value (-1), but there must be at least one NUMA node, so returning NUMA node zero. See more at https://github.com/torvalds/linux/blob/v6.0/Documentation/ABI/testing/sysfs-bus-pci#L344-L355\n",
      "2024-03-08 16:37:10.013957: W tensorflow/core/common_runtime/gpu/gpu_device.cc:1960] Cannot dlopen some GPU libraries. Please make sure the missing libraries mentioned above are installed properly if you would like to use GPU. Follow the guide at https://www.tensorflow.org/install/gpu for how to download and setup the required libraries for your platform.\n",
      "Skipping registering GPU devices...\n"
     ]
    }
   ],
   "source": [
    "class myModel:\n",
    "    def __init__(self):\n",
    "        ####################\n",
    "        '''声明模型对应的参数'''\n",
    "        ####################\n",
    "        # 输入图片大小为28*28，隐藏层大小为128，输出具有10个类型\n",
    "        self.W1 = tf.Variable(shape=[28*28, 128],\n",
    "                               dtype=tf.float32,\n",
    "                               initial_value=tf.random.uniform(shape=[28*28, 128],\n",
    "                                                               minval=-.1,\n",
    "                                                               maxval=.1))\n",
    "        self.b1 = tf.Variable(shape=[128],\n",
    "                             dtype=tf.float32,\n",
    "                             initial_value=tf.zeros(128))\n",
    "        \n",
    "        self.W2 = tf.Variable(shape=[128, 10],\n",
    "                               dtype=tf.float32,\n",
    "                               initial_value=tf.random.uniform(shape=[128, 10],\n",
    "                                                               minval=-.1,\n",
    "                                                               maxval=.1))\n",
    "        self.b2 = tf.Variable(shape=[10],\n",
    "                             dtype=tf.float32,\n",
    "                             initial_value=tf.zeros(10))\n",
    "        \n",
    "    def __call__(self, x):\n",
    "        ####################\n",
    "        '''实现模型函数体，返回未归一化的logits'''\n",
    "        ####################\n",
    "        # 将x展开为1-d向量 shape=(N, 28*28)\n",
    "        flattened_x = tf.reshape(x, shape=[-1, 28*28])\n",
    "        # x经过一层神经元 shape=(N, 128)\n",
    "        raw_hidden_value = tf.matmul(flattened_x, self.W1)+self.b1\n",
    "        # raw_hidden_value经过激活函数，这里使用tanh shape=(N, 128)\n",
    "        hidden_value = tf.tanh(raw_hidden_value)\n",
    "        # hidden_value经过输出层神经元，输出logits逻辑值 shape=(N, 10)\n",
    "        logits = tf.matmul(hidden_value, self.W2)+self.b2\n",
    "        return logits\n",
    "        \n",
    "model = myModel()\n",
    "\n",
    "optimizer = optimizers.Adam()"
   ]
  },
  {
   "cell_type": "markdown",
   "metadata": {},
   "source": [
    "## 计算 loss"
   ]
  },
  {
   "cell_type": "code",
   "execution_count": 4,
   "metadata": {},
   "outputs": [],
   "source": [
    "@tf.function\n",
    "def compute_loss(logits, labels):\n",
    "    return tf.reduce_mean(\n",
    "        tf.nn.sparse_softmax_cross_entropy_with_logits(\n",
    "            logits=logits, labels=labels))\n",
    "\n",
    "@tf.function\n",
    "def compute_accuracy(logits, labels):\n",
    "    predictions = tf.argmax(logits, axis=1)\n",
    "    return tf.reduce_mean(tf.cast(tf.equal(predictions, labels), tf.float32))\n",
    "\n",
    "@tf.function\n",
    "def train_one_step(model, optimizer, x, y):\n",
    "    with tf.GradientTape() as tape:\n",
    "        logits = model(x)\n",
    "        loss = compute_loss(logits, y)\n",
    "\n",
    "    # compute gradient\n",
    "    trainable_vars = [model.W1, model.W2, model.b1, model.b2]\n",
    "    grads = tape.gradient(loss, trainable_vars)\n",
    "    for g, v in zip(grads, trainable_vars):\n",
    "        v.assign_sub(0.01*g)\n",
    "\n",
    "    accuracy = compute_accuracy(logits, y)\n",
    "\n",
    "    # loss and accuracy is scalar tensor\n",
    "    return loss, accuracy\n",
    "\n",
    "@tf.function\n",
    "def test(model, x, y):\n",
    "    logits = model(x)\n",
    "    loss = compute_loss(logits, y)\n",
    "    accuracy = compute_accuracy(logits, y)\n",
    "    return loss, accuracy"
   ]
  },
  {
   "cell_type": "markdown",
   "metadata": {},
   "source": [
    "## 实际训练"
   ]
  },
  {
   "cell_type": "code",
   "execution_count": 5,
   "metadata": {},
   "outputs": [
    {
     "name": "stdout",
     "output_type": "stream",
     "text": [
      "epoch 0 : loss 2.3103702 ; accuracy 0.14275\n",
      "epoch 1 : loss 2.3028984 ; accuracy 0.14665\n",
      "epoch 2 : loss 2.2955437 ; accuracy 0.1518\n",
      "epoch 3 : loss 2.2882996 ; accuracy 0.15626666\n",
      "epoch 4 : loss 2.2811599 ; accuracy 0.16088334\n",
      "epoch 5 : loss 2.2741199 ; accuracy 0.16613333\n",
      "epoch 6 : loss 2.2671735 ; accuracy 0.17123333\n",
      "epoch 7 : loss 2.2603166 ; accuracy 0.1763\n",
      "epoch 8 : loss 2.2535448 ; accuracy 0.18131667\n",
      "epoch 9 : loss 2.2468536 ; accuracy 0.1872\n",
      "epoch 10 : loss 2.24024 ; accuracy 0.19248334\n",
      "epoch 11 : loss 2.2336998 ; accuracy 0.19748333\n",
      "epoch 12 : loss 2.2272296 ; accuracy 0.20198333\n",
      "epoch 13 : loss 2.2208273 ; accuracy 0.20761667\n",
      "epoch 14 : loss 2.2144887 ; accuracy 0.21315\n",
      "epoch 15 : loss 2.2082121 ; accuracy 0.2188\n",
      "epoch 16 : loss 2.201995 ; accuracy 0.22468333\n",
      "epoch 17 : loss 2.195834 ; accuracy 0.23118334\n",
      "epoch 18 : loss 2.1897275 ; accuracy 0.23731667\n",
      "epoch 19 : loss 2.1836736 ; accuracy 0.24453333\n",
      "epoch 20 : loss 2.17767 ; accuracy 0.2522\n",
      "epoch 21 : loss 2.171715 ; accuracy 0.26043335\n",
      "epoch 22 : loss 2.1658068 ; accuracy 0.26843333\n",
      "epoch 23 : loss 2.1599436 ; accuracy 0.27683333\n",
      "epoch 24 : loss 2.1541238 ; accuracy 0.2853\n",
      "epoch 25 : loss 2.148346 ; accuracy 0.2941\n",
      "epoch 26 : loss 2.1426086 ; accuracy 0.3024\n",
      "epoch 27 : loss 2.1369107 ; accuracy 0.31163332\n",
      "epoch 28 : loss 2.1312501 ; accuracy 0.32073334\n",
      "epoch 29 : loss 2.1256268 ; accuracy 0.33023334\n",
      "epoch 30 : loss 2.1200385 ; accuracy 0.33905\n",
      "epoch 31 : loss 2.1144845 ; accuracy 0.348\n",
      "epoch 32 : loss 2.108964 ; accuracy 0.3566\n",
      "epoch 33 : loss 2.1034758 ; accuracy 0.36656666\n",
      "epoch 34 : loss 2.0980186 ; accuracy 0.37493333\n",
      "epoch 35 : loss 2.092592 ; accuracy 0.384\n",
      "epoch 36 : loss 2.0871947 ; accuracy 0.39208335\n",
      "epoch 37 : loss 2.0818262 ; accuracy 0.40131667\n",
      "epoch 38 : loss 2.0764856 ; accuracy 0.41013333\n",
      "epoch 39 : loss 2.071172 ; accuracy 0.41838333\n",
      "epoch 40 : loss 2.0658846 ; accuracy 0.42766666\n",
      "epoch 41 : loss 2.0606227 ; accuracy 0.43606666\n",
      "epoch 42 : loss 2.0553858 ; accuracy 0.44408333\n",
      "epoch 43 : loss 2.0501735 ; accuracy 0.45171666\n",
      "epoch 44 : loss 2.0449843 ; accuracy 0.45896667\n",
      "epoch 45 : loss 2.0398185 ; accuracy 0.46686667\n",
      "epoch 46 : loss 2.0346754 ; accuracy 0.47393334\n",
      "epoch 47 : loss 2.0295537 ; accuracy 0.48078334\n",
      "epoch 48 : loss 2.0244536 ; accuracy 0.48703334\n",
      "epoch 49 : loss 2.0193741 ; accuracy 0.4934\n",
      "test loss 2.003237 ; accuracy 0.5094\n"
     ]
    }
   ],
   "source": [
    "train_data, test_data = mnist_dataset()\n",
    "for epoch in range(50):\n",
    "    loss, accuracy = train_one_step(model, optimizer, \n",
    "                                    tf.constant(train_data[0], dtype=tf.float32), \n",
    "                                    tf.constant(train_data[1], dtype=tf.int64))\n",
    "    print('epoch', epoch, ': loss', loss.numpy(), '; accuracy', accuracy.numpy())\n",
    "loss, accuracy = test(model, \n",
    "                      tf.constant(test_data[0], dtype=tf.float32), \n",
    "                      tf.constant(test_data[1], dtype=tf.int64))\n",
    "\n",
    "print('test loss', loss.numpy(), '; accuracy', accuracy.numpy())"
   ]
  },
  {
   "cell_type": "code",
   "execution_count": null,
   "metadata": {},
   "outputs": [],
   "source": []
  }
 ],
 "metadata": {
  "kernelspec": {
   "display_name": "Python 3",
   "language": "python",
   "name": "python3"
  },
  "language_info": {
   "codemirror_mode": {
    "name": "ipython",
    "version": 3
   },
   "file_extension": ".py",
   "mimetype": "text/x-python",
   "name": "python",
   "nbconvert_exporter": "python",
   "pygments_lexer": "ipython3",
   "version": "3.8.18"
  }
 },
 "nbformat": 4,
 "nbformat_minor": 2
}
