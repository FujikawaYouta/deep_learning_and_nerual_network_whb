{
 "cells": [
  {
   "cell_type": "code",
   "execution_count": 6,
   "metadata": {},
   "outputs": [
    {
     "name": "stdout",
     "output_type": "stream",
     "text": [
      "No GPU available, training on CPU...\n",
      "Epoch 1/3\n",
      "1875/1875 [==============================] - 25s 13ms/step - loss: 0.1013 - accuracy: 0.9682 - val_loss: 0.0418 - val_accuracy: 0.9872\n",
      "Epoch 2/3\n",
      "1875/1875 [==============================] - 24s 13ms/step - loss: 0.0372 - accuracy: 0.9887 - val_loss: 0.0629 - val_accuracy: 0.9800\n",
      "Epoch 3/3\n",
      "1875/1875 [==============================] - 24s 13ms/step - loss: 0.0258 - accuracy: 0.9922 - val_loss: 0.0265 - val_accuracy: 0.9903\n",
      "313/313 [==============================] - 1s 3ms/step - loss: 0.0265 - accuracy: 0.9903\n",
      "Test accuracy:  0.9902999997138977\n"
     ]
    }
   ],
   "source": [
    "# the old code is not available, rewrite the code\n",
    "# the structure of this network is same as the network mentioned above\n",
    "# code below is completed by Wang Haobo\n",
    "import tensorflow as tf\n",
    "import tensorflow.keras as keras\n",
    "from keras import layers, models\n",
    "from keras.datasets import mnist\n",
    "from keras.utils import to_categorical\n",
    "\n",
    "# Check if GPU is available\n",
    "gpus = tf.config.list_physical_devices('GPU')\n",
    "if gpus:\n",
    "    for gpu in gpus:\n",
    "        tf.config.experimental.set_memory_growth(gpu, True)\n",
    "    print(\"Training on GPU...\")\n",
    "else:\n",
    "    print(\"No GPU available, training on CPU...\")\n",
    "\n",
    "# Load and preprocess the dataset\n",
    "(x_train, y_train), (x_test, y_test) = mnist.load_data()\n",
    "# set range to (0,1)\n",
    "x_train, x_test = x_train / 255.0, x_test / 255.0\n",
    "# reshape the data to shape(data_size, width, height, channel)\n",
    "x_train = x_train.reshape(-1, 28, 28, 1)\n",
    "x_test = x_test.reshape(-1, 28, 28, 1)\n",
    "y_train = to_categorical(y_train, 10)\n",
    "y_test = to_categorical(y_test, 10)\n",
    "\n",
    "# Create the CNN model\n",
    "model = models.Sequential([\n",
    "    # using function tf.keras.layers.Conv2D\n",
    "\n",
    "    # every dimension stride = 1, using padding = same\n",
    "    # patch 7x7, in size 1, out size 32    \n",
    "    # convolution select relu as activation\n",
    "    layers.Conv2D(32, (7, 7), activation='relu', input_shape=(28, 28, 1), padding='same'),\n",
    "    # pooling\n",
    "    layers.MaxPooling2D((2, 2)),\n",
    "    # every dimension stride = 1, using padding = same\n",
    "    # patch 5x5, in size 32, out size 64\n",
    "    # convolution\n",
    "    layers.Conv2D(64, (5, 5), activation='relu', padding='same'),\n",
    "    layers.MaxPooling2D((2, 2)),\n",
    "    # pooling\n",
    "    layers.Flatten(),\n",
    "    layers.Dense(1024, activation='relu'),\n",
    "    layers.Dense(10, activation='softmax')\n",
    "])\n",
    "\n",
    "# compile and train the model\n",
    "# using optimizer adam, loss function cross_entropy\n",
    "# using metrics accuracy (for classfier)\n",
    "model.compile(optimizer='adam',\n",
    "              loss='categorical_crossentropy',\n",
    "              metrics=['accuracy'])\n",
    "model.fit(x_train, y_train, epochs=3, validation_data=(x_test, y_test))\n",
    "\n",
    "# evaluate the model\n",
    "test_loss, test_acc = model.evaluate(x_test, y_test)\n",
    "print('Test accuracy: ', test_acc)"
   ]
  },
  {
   "cell_type": "code",
   "execution_count": null,
   "metadata": {},
   "outputs": [],
   "source": []
  }
 ],
 "metadata": {
  "anaconda-cloud": {},
  "kernelspec": {
   "display_name": "d2l-zh",
   "language": "python",
   "name": "python3"
  },
  "language_info": {
   "codemirror_mode": {
    "name": "ipython",
    "version": 3
   },
   "file_extension": ".py",
   "mimetype": "text/x-python",
   "name": "python",
   "nbconvert_exporter": "python",
   "pygments_lexer": "ipython3",
   "version": "3.8.18"
  }
 },
 "nbformat": 4,
 "nbformat_minor": 1
}
